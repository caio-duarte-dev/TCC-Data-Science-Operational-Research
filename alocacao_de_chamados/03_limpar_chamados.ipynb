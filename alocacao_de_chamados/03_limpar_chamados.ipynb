{
 "cells": [
  {
   "cell_type": "code",
   "execution_count": 1,
   "id": "ddef825f",
   "metadata": {},
   "outputs": [
    {
     "name": "stdout",
     "output_type": "stream",
     "text": [
      "Todos os chamados foram apagados de 'chamados.xlsx', mantendo apenas o cabeçalho.\n",
      "Todos os chamados foram apagados de 'chamados_nao_agendados.xlsx', mantendo apenas o cabeçalho.\n"
     ]
    }
   ],
   "source": [
    "import pandas as pd\n",
    "\n",
    "def limpar_chamados(path_principal='chamados.xlsx', path_nao_agendados='chamados_nao_agendados.xlsx'):\n",
    "    for path in [path_principal, path_nao_agendados]:\n",
    "        try:\n",
    "            # Lê apenas o cabeçalho da planilha existente\n",
    "            df = pd.read_excel(path, nrows=0)\n",
    "\n",
    "            # Sobrescreve o arquivo mantendo só o cabeçalho\n",
    "            df.to_excel(path, index=False)\n",
    "\n",
    "            print(f\"Todos os chamados foram apagados de '{path}', mantendo apenas o cabeçalho.\")\n",
    "        \n",
    "        except FileNotFoundError:\n",
    "            print(f\"O arquivo '{path}' não foi encontrado.\")\n",
    "\n",
    "# Executar a função\n",
    "limpar_chamados()"
   ]
  }
 ],
 "metadata": {
  "kernelspec": {
   "display_name": "Python 3",
   "language": "python",
   "name": "python3"
  },
  "language_info": {
   "codemirror_mode": {
    "name": "ipython",
    "version": 3
   },
   "file_extension": ".py",
   "mimetype": "text/x-python",
   "name": "python",
   "nbconvert_exporter": "python",
   "pygments_lexer": "ipython3",
   "version": "3.11.0"
  }
 },
 "nbformat": 4,
 "nbformat_minor": 5
}
